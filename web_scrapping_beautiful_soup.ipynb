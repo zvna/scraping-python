{
  "nbformat": 4,
  "nbformat_minor": 0,
  "metadata": {
    "colab": {
      "provenance": [],
      "authorship_tag": "ABX9TyNV2A5oW41kkkpoiwhk0Q/x",
      "include_colab_link": true
    },
    "kernelspec": {
      "name": "python3",
      "display_name": "Python 3"
    },
    "language_info": {
      "name": "python"
    }
  },
  "cells": [
    {
      "cell_type": "markdown",
      "metadata": {
        "id": "view-in-github",
        "colab_type": "text"
      },
      "source": [
        "<a href=\"https://colab.research.google.com/github/vviia/scraping-python/blob/main/web_scrapping_beautiful_soup.ipynb\" target=\"_parent\"><img src=\"https://colab.research.google.com/assets/colab-badge.svg\" alt=\"Open In Colab\"/></a>"
      ]
    },
    {
      "cell_type": "code",
      "execution_count": null,
      "metadata": {
        "colab": {
          "base_uri": "https://localhost:8080/"
        },
        "id": "gUBWj5DBlE4w",
        "outputId": "ed00cf16-a8a3-4775-8c23-a5e560639148"
      },
      "outputs": [
        {
          "output_type": "stream",
          "name": "stdout",
          "text": [
            "Cloning into 'im-tutorials'...\n",
            "remote: Enumerating objects: 230, done.\u001b[K\n",
            "remote: Total 230 (delta 0), reused 0 (delta 0), pack-reused 230\u001b[K\n",
            "Receiving objects: 100% (230/230), 10.57 MiB | 26.45 MiB/s, done.\n",
            "Resolving deltas: 100% (96/96), done.\n"
          ]
        }
      ],
      "source": [
        "# Before we begin, run this cell if you are using Colab\n",
        "!git clone -b 3-ysi-tutorial https://github.com/nestauk/im-tutorials.git"
      ]
    },
    {
      "cell_type": "markdown",
      "source": [
        "Creating a simple HTML page"
      ],
      "metadata": {
        "id": "rMC3tbuMlYbe"
      }
    },
    {
      "cell_type": "code",
      "source": [
        "from IPython.core.display import display, HTML"
      ],
      "metadata": {
        "id": "MrpY2qMXlZVG"
      },
      "execution_count": null,
      "outputs": []
    },
    {
      "cell_type": "code",
      "source": [
        "display(HTML(\"\"\"\n",
        "<!DOCTYPE html>\n",
        "<html lang=\"en\" dir=\"ltr\">\n",
        "<head>\n",
        "  <title>Intro to HTML</title>\n",
        "</head>\n",
        "\n",
        "<body>\n",
        "  <h1>Heading h1</h1>\n",
        "  <h2>Heading h2</h2>\n",
        "  <h3>Heading h3</h3>\n",
        "  <h4>Heading h4</h4>\n",
        "\n",
        "  <p>\n",
        "    That's a text paragraph. You can also <b>bold</b>, <mark>mark</mark>, <ins>underline</ins>, <del>strikethrough</del> and <i>emphasize</i> words.\n",
        "    You can also add links - here's one to <a href=\"https://en.wikipedia.org/wiki/Main_Page\">Wikipedia</a>.\n",
        "  </p>\n",
        "\n",
        "  <p>\n",
        "    This <br> is a paragraph <br> with <br> line breaks\n",
        "  </p>\n",
        "\n",
        "  <p style=\"color:red\">\n",
        "    Add colour to your paragraphs.\n",
        "  </p>\n",
        "\n",
        "  <p>Unordered list:</p>\n",
        "  <ul>\n",
        "    <li>Python</li>\n",
        "    <li>R</li>\n",
        "    <li>Julia</li>\n",
        "  </ul>\n",
        "\n",
        "  <p>Ordered list:</p>\n",
        "  <ol>\n",
        "    <li>Data collection</li>\n",
        "    <li>Exploratory data analysis</li>\n",
        "    <li>Data analysis</li>\n",
        "    <li>Policy recommendations</li>\n",
        "  </ol>\n",
        "  <hr>\n",
        "\n",
        "  <!-- This is a comment -->\n",
        "\n",
        "</body>\n",
        "</html>\n",
        "\"\"\"))"
      ],
      "metadata": {
        "colab": {
          "base_uri": "https://localhost:8080/",
          "height": 520
        },
        "id": "u31oHP6qlbUs",
        "outputId": "d44746ea-8cbb-41c3-d008-7a4e753f53b5"
      },
      "execution_count": null,
      "outputs": [
        {
          "output_type": "display_data",
          "data": {
            "text/plain": [
              "<IPython.core.display.HTML object>"
            ],
            "text/html": [
              "\n",
              "<!DOCTYPE html>\n",
              "<html lang=\"en\" dir=\"ltr\">\n",
              "<head>\n",
              "  <title>Intro to HTML</title>\n",
              "</head>\n",
              "\n",
              "<body>\n",
              "  <h1>Heading h1</h1>\n",
              "  <h2>Heading h2</h2>\n",
              "  <h3>Heading h3</h3>\n",
              "  <h4>Heading h4</h4>\n",
              "\n",
              "  <p>\n",
              "    That's a text paragraph. You can also <b>bold</b>, <mark>mark</mark>, <ins>underline</ins>, <del>strikethrough</del> and <i>emphasize</i> words.\n",
              "    You can also add links - here's one to <a href=\"https://en.wikipedia.org/wiki/Main_Page\">Wikipedia</a>.\n",
              "  </p>\n",
              "\n",
              "  <p>\n",
              "    This <br> is a paragraph <br> with <br> line breaks\n",
              "  </p>\n",
              "\n",
              "  <p style=\"color:red\">\n",
              "    Add colour to your paragraphs.\n",
              "  </p>\n",
              "\n",
              "  <p>Unordered list:</p>\n",
              "  <ul>\n",
              "    <li>Python</li>\n",
              "    <li>R</li>\n",
              "    <li>Julia</li>\n",
              "  </ul>\n",
              "\n",
              "  <p>Ordered list:</p>\n",
              "  <ol>\n",
              "    <li>Data collection</li>\n",
              "    <li>Exploratory data analysis</li>\n",
              "    <li>Data analysis</li>\n",
              "    <li>Policy recommendations</li>\n",
              "  </ol>\n",
              "  <hr>\n",
              "\n",
              "  <!-- This is a comment -->\n",
              "\n",
              "</body>\n",
              "</html>\n"
            ]
          },
          "metadata": {}
        }
      ]
    },
    {
      "cell_type": "markdown",
      "source": [
        "## Web Scraping with `requests` and `BeautifulSoup`\n",
        "\n",
        "We will use `requests` and `BeautifulSoup` to access and scrape the content of [IMDB's homepage](https://www.imdb.com).\n",
        "\n",
        "### What is `BeautifulSoup`?\n",
        "\n",
        "It is a Python library for pulling data out of HTML and XML files. It provides methods to navigate the document's tree structure that we discussed before and scrape its content.\n",
        "\n",
        "### Our pipeline\n",
        "\n",
        "![image.png](data:image/png;base64,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)"
      ],
      "metadata": {
        "id": "SL9WV2bUlitO"
      }
    },
    {
      "cell_type": "code",
      "source": [
        "# Imports\n",
        "import requests\n",
        "import numpy as np\n",
        "import pandas as pd\n",
        "from bs4 import BeautifulSoup\n",
        "import matplotlib.pyplot as plt\n",
        "\n",
        "%matplotlib inline"
      ],
      "metadata": {
        "id": "eGscBqV9leqd"
      },
      "execution_count": null,
      "outputs": []
    },
    {
      "cell_type": "code",
      "source": [
        "# IMDB's homepage\n",
        "imdb_url = 'https://www.imdb.com'\n",
        "\n",
        "# Use requests to retrieve data from a given URL\n",
        "imdb_response = requests.get(imdb_url)\n",
        "\n",
        "# Parse the whole HTML page using BeautifulSoup\n",
        "imdb_soup = BeautifulSoup(imdb_response.text, 'html.parser')\n",
        "\n",
        "# Title of the parsed page\n",
        "imdb_soup.title"
      ],
      "metadata": {
        "colab": {
          "base_uri": "https://localhost:8080/"
        },
        "id": "VzSxklTml1pA",
        "outputId": "a97a34d8-abda-450d-e09a-a8a8be3eafad"
      },
      "execution_count": null,
      "outputs": [
        {
          "output_type": "execute_result",
          "data": {
            "text/plain": [
              "<title>IMDb: Ratings, Reviews, and Where to Watch the Best Movies &amp; TV Shows</title>"
            ]
          },
          "metadata": {},
          "execution_count": 5
        }
      ]
    },
    {
      "cell_type": "code",
      "source": [
        "# We can also get it without the HTML tags\n",
        "imdb_soup.title.string"
      ],
      "metadata": {
        "colab": {
          "base_uri": "https://localhost:8080/",
          "height": 36
        },
        "id": "XccYyvhkl41m",
        "outputId": "55798648-e60d-476f-fb59-d2e8f8470cbc"
      },
      "execution_count": null,
      "outputs": [
        {
          "output_type": "execute_result",
          "data": {
            "text/plain": [
              "'IMDb: Ratings, Reviews, and Where to Watch the Best Movies & TV Shows'"
            ],
            "application/vnd.google.colaboratory.intrinsic+json": {
              "type": "string"
            }
          },
          "metadata": {},
          "execution_count": 6
        }
      ]
    },
    {
      "cell_type": "markdown",
      "source": [
        "Collect trailers' title and description"
      ],
      "metadata": {
        "id": "QqEupb5tl5_H"
      }
    },
    {
      "cell_type": "code",
      "source": [
        "trailers = imdb_soup.find('div', {'class': 'ab_hero'})"
      ],
      "metadata": {
        "id": "WneZ0cphl8gz"
      },
      "execution_count": null,
      "outputs": []
    },
    {
      "cell_type": "code",
      "source": [
        "#print(trailers.prettify())"
      ],
      "metadata": {
        "id": "0Xv2Z4RIl_zL"
      },
      "execution_count": null,
      "outputs": []
    },
    {
      "cell_type": "markdown",
      "source": [
        "We will use the `.find_all()` method to search the HTML tree for particular tags and get a `list` with all the relevant objects."
      ],
      "metadata": {
        "id": "2ISqcda9mDU-"
      }
    },
    {
      "cell_type": "code",
      "source": [
        "for title, image in zip(trailers.find_all('div', {'class': 'onoverflow'}), trailers.find_all('img', {'class': 'pri_image'})):\n",
        "    print(f\"{title.text}: {image['title']}\")\n",
        "    print()"
      ],
      "metadata": {
        "colab": {
          "base_uri": "https://localhost:8080/",
          "height": 209
        },
        "id": "IELOTTCsmC7P",
        "outputId": "312e3314-6e11-4057-fb52-aa290284167c"
      },
      "execution_count": null,
      "outputs": [
        {
          "output_type": "error",
          "ename": "AttributeError",
          "evalue": "ignored",
          "traceback": [
            "\u001b[0;31m---------------------------------------------------------------------------\u001b[0m",
            "\u001b[0;31mAttributeError\u001b[0m                            Traceback (most recent call last)",
            "\u001b[0;32m<ipython-input-11-c3262e6dba72>\u001b[0m in \u001b[0;36m<module>\u001b[0;34m()\u001b[0m\n\u001b[0;32m----> 1\u001b[0;31m \u001b[0;32mfor\u001b[0m \u001b[0mtitle\u001b[0m\u001b[0;34m,\u001b[0m \u001b[0mimage\u001b[0m \u001b[0;32min\u001b[0m \u001b[0mzip\u001b[0m\u001b[0;34m(\u001b[0m\u001b[0mtrailers\u001b[0m\u001b[0;34m.\u001b[0m\u001b[0mfind_all\u001b[0m\u001b[0;34m(\u001b[0m\u001b[0;34m'div'\u001b[0m\u001b[0;34m,\u001b[0m \u001b[0;34m{\u001b[0m\u001b[0;34m'class'\u001b[0m\u001b[0;34m:\u001b[0m \u001b[0;34m'onoverflow'\u001b[0m\u001b[0;34m}\u001b[0m\u001b[0;34m)\u001b[0m\u001b[0;34m,\u001b[0m \u001b[0mtrailers\u001b[0m\u001b[0;34m.\u001b[0m\u001b[0mfind_all\u001b[0m\u001b[0;34m(\u001b[0m\u001b[0;34m'img'\u001b[0m\u001b[0;34m,\u001b[0m \u001b[0;34m{\u001b[0m\u001b[0;34m'class'\u001b[0m\u001b[0;34m:\u001b[0m \u001b[0;34m'pri_image'\u001b[0m\u001b[0;34m}\u001b[0m\u001b[0;34m)\u001b[0m\u001b[0;34m)\u001b[0m\u001b[0;34m:\u001b[0m\u001b[0;34m\u001b[0m\u001b[0;34m\u001b[0m\u001b[0m\n\u001b[0m\u001b[1;32m      2\u001b[0m     \u001b[0mprint\u001b[0m\u001b[0;34m(\u001b[0m\u001b[0;34mf\"{title.text}: {image['title']}\"\u001b[0m\u001b[0;34m)\u001b[0m\u001b[0;34m\u001b[0m\u001b[0;34m\u001b[0m\u001b[0m\n\u001b[1;32m      3\u001b[0m     \u001b[0mprint\u001b[0m\u001b[0;34m(\u001b[0m\u001b[0;34m)\u001b[0m\u001b[0;34m\u001b[0m\u001b[0;34m\u001b[0m\u001b[0m\n",
            "\u001b[0;31mAttributeError\u001b[0m: 'NoneType' object has no attribute 'find_all'"
          ]
        }
      ]
    },
    {
      "cell_type": "markdown",
      "source": [
        "Collect side bar"
      ],
      "metadata": {
        "id": "DA_joMAUmI7B"
      }
    },
    {
      "cell_type": "code",
      "source": [
        "for widget in imdb_soup.find_all('div', {'class': 'aux-content-widget-2'}):\n",
        "    # Check that the widget has a heading\n",
        "    if widget.h3:\n",
        "        # Print the widget's heading along with the movie titles.\n",
        "        print(widget.h3.string)\n",
        "        for title in widget.find_all('div', {'class': 'title'}):\n",
        "            print(title.text)\n",
        "        print()"
      ],
      "metadata": {
        "id": "DE9yyvy1mLWy"
      },
      "execution_count": null,
      "outputs": []
    },
    {
      "cell_type": "markdown",
      "source": [
        "Collect articles"
      ],
      "metadata": {
        "id": "OcU23DekmOsx"
      }
    },
    {
      "cell_type": "code",
      "source": [
        "for article in imdb_soup.find_all('div', {'class': 'article'}):\n",
        "    if article.h3:\n",
        "        # Title of the article\n",
        "        print(article.h3.string)\n",
        "        # Text\n",
        "        print(article.p.text)\n",
        "        print()"
      ],
      "metadata": {
        "id": "Ea4WfvbimPc_"
      },
      "execution_count": null,
      "outputs": []
    },
    {
      "cell_type": "markdown",
      "source": [
        "Find links\n",
        "\n",
        "In many cases, it is useful to collect the links contained in a webpage (for example, you might want to scrape them too). Here is how you can do this."
      ],
      "metadata": {
        "id": "TKI8siCTmS5x"
      }
    },
    {
      "cell_type": "code",
      "source": [
        "# Find all links\n",
        "links = [link.get('href') for link in imdb_soup.find_all('a')]\n",
        "\n",
        "# Add homepage and keep the unique links\n",
        "fixed_links = set([''.join([imdb_url, link]) for link in links if link])"
      ],
      "metadata": {
        "id": "C1BJfkQBmTpP"
      },
      "execution_count": null,
      "outputs": []
    },
    {
      "cell_type": "code",
      "source": [
        "# fixed_links"
      ],
      "metadata": {
        "id": "P-kz0KW9mX_v"
      },
      "execution_count": null,
      "outputs": []
    },
    {
      "cell_type": "code",
      "source": [
        "from bs4 import BeautifulSoup\n",
        "import requests\n",
        "import pandas as pd\n",
        "import matplotlib.pyplot as plt\n",
        "import numpy as np\n",
        "\n",
        "#Fetch a website URL and store it to webpage\n",
        "webpage = requests.get(\"https://content.codecademy.com/courses/beautifulsoup/cacao/index.html\")\n",
        "\n",
        "#Take the webpage variable and fetch the content using BeautifulSoup\n",
        "soup = BeautifulSoup(webpage.content, \"html.parser\")\n",
        "\n",
        "#Store the whole text in HTML that have the class \"Rating\" and \"CocoaPercent\"\n",
        "rating_column = soup.find_all(attrs={\"class\": \"Rating\"})\n",
        "cocoa_percent_tags = soup.find_all(attrs={\"class\": \"CocoaPercent\"})\n",
        "\n",
        "#Make a empty lists for Rating and CocoaPercent\n",
        "ratings = []\n",
        "cocoa_percents = []\n",
        "\n",
        "#Loop for inserting each table data to list\n",
        "for x in rating_column[1:] :\n",
        "  ratings.append(float(x.get_text()))\n",
        "\n",
        "for td in cocoa_percent_tags[1:] :\n",
        "  percent = float(td.get_text().strip('%'))\n",
        "  cocoa_percents.append(percent)\n",
        "\n",
        "#Combining both ratings and cocoa_percents list to a dictionary\n",
        "data = {\"Company\": company, \"Rating\": ratings, \"CocoaPercentage\": cocoa_percents}\n",
        "\n",
        "#Make a new Data Frame from data dictionary\n",
        "df = pd.DataFrame.from_dict(data)\n",
        "\n",
        "#Find the fits using polyfit\n",
        "z = np.polyfit(df.CocoaPercentage, df.Rating, 1)\n",
        "\n",
        "#Make the line polynomial function using poly1d\n",
        "line_function = np.poly1d(z)\n",
        "\n",
        "#Plotting the data\n",
        "plt.scatter(df.CocoaPercentage, df.Rating)\n",
        "plt.title('Cocoa Percentage & Ratings Correlation')\n",
        "plt.xlabel('Cocoa Percentage (%)')\n",
        "plt.ylabel('Ratings')\n",
        "plt.plot(df.CocoaPercentage, line_function(df.CocoaPercentage), \"r--\")\n",
        "plt.show()"
      ],
      "metadata": {
        "id": "g9EXeX4ymy-Z",
        "outputId": "0c2b738e-559b-4d4e-d5dc-450a9fac7340",
        "colab": {
          "base_uri": "https://localhost:8080/",
          "height": 246
        }
      },
      "execution_count": null,
      "outputs": [
        {
          "output_type": "error",
          "ename": "NameError",
          "evalue": "ignored",
          "traceback": [
            "\u001b[0;31m---------------------------------------------------------------------------\u001b[0m",
            "\u001b[0;31mNameError\u001b[0m                                 Traceback (most recent call last)",
            "\u001b[0;32m<ipython-input-12-6114fa6d4ad1>\u001b[0m in \u001b[0;36m<module>\u001b[0;34m()\u001b[0m\n\u001b[1;32m     28\u001b[0m \u001b[0;34m\u001b[0m\u001b[0m\n\u001b[1;32m     29\u001b[0m \u001b[0;31m#Combining both ratings and cocoa_percents list to a dictionary\u001b[0m\u001b[0;34m\u001b[0m\u001b[0;34m\u001b[0m\u001b[0;34m\u001b[0m\u001b[0m\n\u001b[0;32m---> 30\u001b[0;31m \u001b[0mdata\u001b[0m \u001b[0;34m=\u001b[0m \u001b[0;34m{\u001b[0m\u001b[0;34m\"Company\"\u001b[0m\u001b[0;34m:\u001b[0m \u001b[0mcompany\u001b[0m\u001b[0;34m,\u001b[0m \u001b[0;34m\"Rating\"\u001b[0m\u001b[0;34m:\u001b[0m \u001b[0mratings\u001b[0m\u001b[0;34m,\u001b[0m \u001b[0;34m\"CocoaPercentage\"\u001b[0m\u001b[0;34m:\u001b[0m \u001b[0mcocoa_percents\u001b[0m\u001b[0;34m}\u001b[0m\u001b[0;34m\u001b[0m\u001b[0;34m\u001b[0m\u001b[0m\n\u001b[0m\u001b[1;32m     31\u001b[0m \u001b[0;34m\u001b[0m\u001b[0m\n\u001b[1;32m     32\u001b[0m \u001b[0;31m#Make a new Data Frame from data dictionary\u001b[0m\u001b[0;34m\u001b[0m\u001b[0;34m\u001b[0m\u001b[0;34m\u001b[0m\u001b[0m\n",
            "\u001b[0;31mNameError\u001b[0m: name 'company' is not defined"
          ]
        }
      ]
    }
  ]
}