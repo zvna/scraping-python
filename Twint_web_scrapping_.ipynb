{
  "cells": [
    {
      "cell_type": "markdown",
      "metadata": {
        "id": "view-in-github",
        "colab_type": "text"
      },
      "source": [
        "<a href=\"https://colab.research.google.com/github/vviia/scraping-python/blob/main/Twint_web_scrapping_.ipynb\" target=\"_parent\"><img src=\"https://colab.research.google.com/assets/colab-badge.svg\" alt=\"Open In Colab\"/></a>"
      ]
    },
    {
      "cell_type": "markdown",
      "metadata": {
        "id": "HDZ9fGahsi1J"
      },
      "source": [
        "### Install libraries"
      ]
    },
    {
      "cell_type": "code",
      "execution_count": null,
      "metadata": {
        "colab": {
          "base_uri": "https://localhost:8080/"
        },
        "id": "kBcjiWsgsi1h",
        "outputId": "b14d404e-9a92-4560-ae93-f2ff543585bb"
      },
      "outputs": [
        {
          "name": "stdout",
          "output_type": "stream",
          "text": [
            "Looking in indexes: https://pypi.org/simple, https://us-python.pkg.dev/colab-wheels/public/simple/\n",
            "Collecting nest_asyncio\n",
            "  Downloading nest_asyncio-1.5.5-py3-none-any.whl (5.2 kB)\n",
            "Installing collected packages: nest-asyncio\n",
            "Successfully installed nest-asyncio-1.5.5\n"
          ]
        }
      ],
      "source": [
        "!pip install nest_asyncio\n",
        "import nest_asyncio\n",
        "nest_asyncio.apply()# used once to enable concurrent actions within a Jupyter notebook."
      ]
    },
    {
      "cell_type": "code",
      "execution_count": null,
      "metadata": {
        "colab": {
          "base_uri": "https://localhost:8080/",
          "height": 36
        },
        "id": "sRAIV01Dsi1j",
        "outputId": "ffbcf48d-e41e-4eb2-a1ea-c1a89d9def0c"
      },
      "outputs": [
        {
          "data": {
            "application/vnd.google.colaboratory.intrinsic+json": {
              "type": "string"
            },
            "text/plain": [
              "'!git clone --depth=1 https://github.com/twintproject/twint.git\\n%cd twint\\n!pip3 install . -r requirements.txt'"
            ]
          },
          "execution_count": 2,
          "metadata": {},
          "output_type": "execute_result"
        }
      ],
      "source": [
        "'''!git clone --depth=1 https://github.com/twintproject/twint.git\n",
        "%cd twint\n",
        "!pip3 install . -r requirements.txt'''"
      ]
    },
    {
      "cell_type": "code",
      "execution_count": null,
      "metadata": {
        "id": "z9pHkIdnt6kJ"
      },
      "outputs": [],
      "source": [
        "import nest_asyncio\n",
        "nest_asyncio.apply()# used once to enable concurrent actions within a Jupyter notebook."
      ]
    },
    {
      "cell_type": "code",
      "execution_count": null,
      "metadata": {
        "colab": {
          "base_uri": "https://localhost:8080/"
        },
        "id": "_Pv0heGqx9NQ",
        "outputId": "ebde9b8b-8140-4699-b315-48d71049da9e"
      },
      "outputs": [
        {
          "name": "stdout",
          "output_type": "stream",
          "text": [
            "Looking in indexes: https://pypi.org/simple, https://us-python.pkg.dev/colab-wheels/public/simple/\n",
            "Collecting aiohttp==3.7.0\n",
            "  Downloading aiohttp-3.7.0-cp37-cp37m-manylinux2014_x86_64.whl (1.3 MB)\n",
            "\u001b[K     |████████████████████████████████| 1.3 MB 3.2 MB/s \n",
            "\u001b[?25hRequirement already satisfied: yarl<2.0,>=1.0 in /usr/local/lib/python3.7/dist-packages (from aiohttp==3.7.0) (1.8.1)\n",
            "Collecting async-timeout<4.0,>=3.0\n",
            "  Downloading async_timeout-3.0.1-py3-none-any.whl (8.2 kB)\n",
            "Requirement already satisfied: multidict<7.0,>=4.5 in /usr/local/lib/python3.7/dist-packages (from aiohttp==3.7.0) (6.0.2)\n",
            "Requirement already satisfied: chardet<4.0,>=2.0 in /usr/local/lib/python3.7/dist-packages (from aiohttp==3.7.0) (3.0.4)\n",
            "Requirement already satisfied: attrs>=17.3.0 in /usr/local/lib/python3.7/dist-packages (from aiohttp==3.7.0) (22.1.0)\n",
            "Requirement already satisfied: idna>=2.0 in /usr/local/lib/python3.7/dist-packages (from yarl<2.0,>=1.0->aiohttp==3.7.0) (2.10)\n",
            "Requirement already satisfied: typing-extensions>=3.7.4 in /usr/local/lib/python3.7/dist-packages (from yarl<2.0,>=1.0->aiohttp==3.7.0) (4.1.1)\n",
            "Installing collected packages: async-timeout, aiohttp\n",
            "  Attempting uninstall: async-timeout\n",
            "    Found existing installation: async-timeout 4.0.2\n",
            "    Uninstalling async-timeout-4.0.2:\n",
            "      Successfully uninstalled async-timeout-4.0.2\n",
            "  Attempting uninstall: aiohttp\n",
            "    Found existing installation: aiohttp 3.8.1\n",
            "    Uninstalling aiohttp-3.8.1:\n",
            "      Successfully uninstalled aiohttp-3.8.1\n",
            "Successfully installed aiohttp-3.7.0 async-timeout-3.0.1\n"
          ]
        }
      ],
      "source": [
        "!pip install aiohttp==3.7.0"
      ]
    },
    {
      "cell_type": "code",
      "execution_count": null,
      "metadata": {
        "colab": {
          "base_uri": "https://localhost:8080/"
        },
        "id": "tGhQl3-FI991",
        "outputId": "d27c4008-9d4d-4503-c091-6d02577bce5c"
      },
      "outputs": [
        {
          "name": "stdout",
          "output_type": "stream",
          "text": [
            "Looking in indexes: https://pypi.org/simple, https://us-python.pkg.dev/colab-wheels/public/simple/\n",
            "Collecting twint\n",
            "  Downloading twint-2.1.20.tar.gz (31 kB)\n",
            "Requirement already satisfied: aiohttp in /usr/local/lib/python3.7/dist-packages (from twint) (3.7.0)\n",
            "Collecting aiodns\n",
            "  Downloading aiodns-3.0.0-py3-none-any.whl (5.0 kB)\n",
            "Requirement already satisfied: beautifulsoup4 in /usr/local/lib/python3.7/dist-packages (from twint) (4.6.3)\n",
            "Collecting cchardet\n",
            "  Downloading cchardet-2.1.7-cp37-cp37m-manylinux2010_x86_64.whl (263 kB)\n",
            "\u001b[K     |████████████████████████████████| 263 kB 4.8 MB/s \n",
            "\u001b[?25hCollecting elasticsearch\n",
            "  Downloading elasticsearch-8.4.1-py3-none-any.whl (385 kB)\n",
            "\u001b[K     |████████████████████████████████| 385 kB 56.9 MB/s \n",
            "\u001b[?25hRequirement already satisfied: pysocks in /usr/local/lib/python3.7/dist-packages (from twint) (1.7.1)\n",
            "Requirement already satisfied: pandas in /usr/local/lib/python3.7/dist-packages (from twint) (1.3.5)\n",
            "Collecting aiohttp_socks\n",
            "  Downloading aiohttp_socks-0.7.1-py3-none-any.whl (9.3 kB)\n",
            "Collecting schedule\n",
            "  Downloading schedule-1.1.0-py2.py3-none-any.whl (10 kB)\n",
            "Requirement already satisfied: geopy in /usr/local/lib/python3.7/dist-packages (from twint) (1.17.0)\n",
            "Collecting fake-useragent\n",
            "  Downloading fake-useragent-0.1.11.tar.gz (13 kB)\n",
            "Collecting googletransx\n",
            "  Downloading googletransx-2.4.2.tar.gz (13 kB)\n",
            "Collecting pycares>=4.0.0\n",
            "  Downloading pycares-4.2.2-cp37-cp37m-manylinux_2_17_x86_64.manylinux2014_x86_64.whl (288 kB)\n",
            "\u001b[K     |████████████████████████████████| 288 kB 43.1 MB/s \n",
            "\u001b[?25hRequirement already satisfied: cffi>=1.5.0 in /usr/local/lib/python3.7/dist-packages (from pycares>=4.0.0->aiodns->twint) (1.15.1)\n",
            "Requirement already satisfied: pycparser in /usr/local/lib/python3.7/dist-packages (from cffi>=1.5.0->pycares>=4.0.0->aiodns->twint) (2.21)\n",
            "Requirement already satisfied: async-timeout<4.0,>=3.0 in /usr/local/lib/python3.7/dist-packages (from aiohttp->twint) (3.0.1)\n",
            "Requirement already satisfied: yarl<2.0,>=1.0 in /usr/local/lib/python3.7/dist-packages (from aiohttp->twint) (1.8.1)\n",
            "Requirement already satisfied: attrs>=17.3.0 in /usr/local/lib/python3.7/dist-packages (from aiohttp->twint) (22.1.0)\n",
            "Requirement already satisfied: multidict<7.0,>=4.5 in /usr/local/lib/python3.7/dist-packages (from aiohttp->twint) (6.0.2)\n",
            "Requirement already satisfied: chardet<4.0,>=2.0 in /usr/local/lib/python3.7/dist-packages (from aiohttp->twint) (3.0.4)\n",
            "Requirement already satisfied: idna>=2.0 in /usr/local/lib/python3.7/dist-packages (from yarl<2.0,>=1.0->aiohttp->twint) (2.10)\n",
            "Requirement already satisfied: typing-extensions>=3.7.4 in /usr/local/lib/python3.7/dist-packages (from yarl<2.0,>=1.0->aiohttp->twint) (4.1.1)\n",
            "Collecting python-socks[asyncio]<3.0.0,>=2.0.0\n",
            "  Downloading python_socks-2.0.3-py3-none-any.whl (49 kB)\n",
            "\u001b[K     |████████████████████████████████| 49 kB 5.5 MB/s \n",
            "\u001b[?25hCollecting elastic-transport<9,>=8\n",
            "  Downloading elastic_transport-8.4.0-py3-none-any.whl (59 kB)\n",
            "\u001b[K     |████████████████████████████████| 59 kB 6.1 MB/s \n",
            "\u001b[?25hRequirement already satisfied: certifi in /usr/local/lib/python3.7/dist-packages (from elastic-transport<9,>=8->elasticsearch->twint) (2022.6.15)\n",
            "Collecting urllib3<2,>=1.26.2\n",
            "  Downloading urllib3-1.26.12-py2.py3-none-any.whl (140 kB)\n",
            "\u001b[K     |████████████████████████████████| 140 kB 55.3 MB/s \n",
            "\u001b[?25hRequirement already satisfied: geographiclib<2,>=1.49 in /usr/local/lib/python3.7/dist-packages (from geopy->twint) (1.52)\n",
            "Requirement already satisfied: requests in /usr/local/lib/python3.7/dist-packages (from googletransx->twint) (2.23.0)\n",
            "Requirement already satisfied: pytz>=2017.3 in /usr/local/lib/python3.7/dist-packages (from pandas->twint) (2022.2.1)\n",
            "Requirement already satisfied: numpy>=1.17.3 in /usr/local/lib/python3.7/dist-packages (from pandas->twint) (1.21.6)\n",
            "Requirement already satisfied: python-dateutil>=2.7.3 in /usr/local/lib/python3.7/dist-packages (from pandas->twint) (2.8.2)\n",
            "Requirement already satisfied: six>=1.5 in /usr/local/lib/python3.7/dist-packages (from python-dateutil>=2.7.3->pandas->twint) (1.15.0)\n",
            "Collecting requests\n",
            "  Downloading requests-2.28.1-py3-none-any.whl (62 kB)\n",
            "\u001b[K     |████████████████████████████████| 62 kB 1.2 MB/s \n",
            "\u001b[?25hRequirement already satisfied: charset-normalizer<3,>=2 in /usr/local/lib/python3.7/dist-packages (from requests->googletransx->twint) (2.1.1)\n",
            "Building wheels for collected packages: twint, fake-useragent, googletransx\n",
            "  Building wheel for twint (setup.py) ... \u001b[?25l\u001b[?25hdone\n",
            "  Created wheel for twint: filename=twint-2.1.20-py3-none-any.whl size=33929 sha256=3b138853f3939dbd87b744f47903df114afb1470f08a9f393925a09b80711f34\n",
            "  Stored in directory: /root/.cache/pip/wheels/44/fc/77/99887a36b5c265a87516158858697d1a0b8f32c4d4dbddbb24\n",
            "  Building wheel for fake-useragent (setup.py) ... \u001b[?25l\u001b[?25hdone\n",
            "  Created wheel for fake-useragent: filename=fake_useragent-0.1.11-py3-none-any.whl size=13502 sha256=d5b5c4e844392f53894ea79ffe13190877b5360f19844770318667a2b6f60554\n",
            "  Stored in directory: /root/.cache/pip/wheels/ed/f7/62/50ab6c9a0b5567267ab76a9daa9d06315704209b2c5d032031\n",
            "  Building wheel for googletransx (setup.py) ... \u001b[?25l\u001b[?25hdone\n",
            "  Created wheel for googletransx: filename=googletransx-2.4.2-py3-none-any.whl size=15968 sha256=a98ed67bcaa9f258958085226c607e8302dd34c94e4b832feba9a4e2dad02b53\n",
            "  Stored in directory: /root/.cache/pip/wheels/66/d5/b1/31104b338f7fd45aa8f7d22587765db06773b13df48a89735f\n",
            "Successfully built twint fake-useragent googletransx\n",
            "Installing collected packages: urllib3, python-socks, requests, pycares, elastic-transport, schedule, googletransx, fake-useragent, elasticsearch, cchardet, aiohttp-socks, aiodns, twint\n",
            "  Attempting uninstall: urllib3\n",
            "    Found existing installation: urllib3 1.24.3\n",
            "    Uninstalling urllib3-1.24.3:\n",
            "      Successfully uninstalled urllib3-1.24.3\n",
            "  Attempting uninstall: requests\n",
            "    Found existing installation: requests 2.23.0\n",
            "    Uninstalling requests-2.23.0:\n",
            "      Successfully uninstalled requests-2.23.0\n",
            "Successfully installed aiodns-3.0.0 aiohttp-socks-0.7.1 cchardet-2.1.7 elastic-transport-8.4.0 elasticsearch-8.4.1 fake-useragent-0.1.11 googletransx-2.4.2 pycares-4.2.2 python-socks-2.0.3 requests-2.28.1 schedule-1.1.0 twint-2.1.20 urllib3-1.26.12\n"
          ]
        }
      ],
      "source": [
        "!pip install twint"
      ]
    },
    {
      "cell_type": "code",
      "execution_count": null,
      "metadata": {
        "id": "TtA5BNQExtQJ"
      },
      "outputs": [],
      "source": [
        "import twint"
      ]
    },
    {
      "cell_type": "markdown",
      "metadata": {
        "id": "TWokAVKgsi1l"
      },
      "source": [
        "### 1. Scrape the tweets of user"
      ]
    },
    {
      "cell_type": "code",
      "execution_count": null,
      "metadata": {
        "colab": {
          "background_save": true,
          "base_uri": "https://localhost:8080/"
        },
        "id": "shI-8Jsrsi1n",
        "outputId": "74d5175c-6411-4876-fd01-29102d5e62ed"
      },
      "outputs": [
        {
          "name": "stderr",
          "output_type": "stream",
          "text": [
            "CRITICAL:root:twint.get:User:'NoneType' object is not subscriptable\n",
            "CRITICAL:root:twint.run:Twint:Feed:noDataExpecting value: line 1 column 1 (char 0)\n",
            "sleeping for 1.0 secs\n",
            "CRITICAL:root:twint.run:Twint:Feed:noDataExpecting value: line 1 column 1 (char 0)\n",
            "sleeping for 8.0 secs\n",
            "CRITICAL:root:twint.run:Twint:Feed:noDataExpecting value: line 1 column 1 (char 0)\n",
            "sleeping for 27.0 secs\n",
            "CRITICAL:root:twint.run:Twint:Feed:noDataExpecting value: line 1 column 1 (char 0)\n",
            "sleeping for 64.0 secs\n",
            "CRITICAL:root:twint.run:Twint:Feed:noDataExpecting value: line 1 column 1 (char 0)\n",
            "sleeping for 125.0 secs\n",
            "CRITICAL:root:twint.run:Twint:Feed:noDataExpecting value: line 1 column 1 (char 0)\n",
            "sleeping for 216.0 secs\n",
            "CRITICAL:root:twint.run:Twint:Feed:noDataExpecting value: line 1 column 1 (char 0)\n",
            "sleeping for 343.0 secs\n",
            "CRITICAL:root:twint.run:Twint:Feed:noDataExpecting value: line 1 column 1 (char 0)\n",
            "sleeping for 512.0 secs\n",
            "CRITICAL:root:twint.run:Twint:Feed:noDataExpecting value: line 1 column 1 (char 0)\n",
            "sleeping for 729.0 secs\n",
            "CRITICAL:root:twint.run:Twint:Feed:noDataExpecting value: line 1 column 1 (char 0)\n",
            "CRITICAL:root:twint.run:Twint:Feed:Tweets_known_error:Expecting value: line 1 column 1 (char 0)\n",
            "Expecting value: line 1 column 1 (char 0) [x] run.Feed[!] if get this error but you know for sure that more tweets exist, please open an issue and we will investigate it!"
          ]
        }
      ],
      "source": [
        "# Configure\n",
        "c = twint.Config()\n",
        "c.Limit = 1\n",
        "c.Username = \"fleetimee\"\n",
        "\n",
        "# Run\n",
        "twint.run.Search(c)"
      ]
    },
    {
      "cell_type": "markdown",
      "metadata": {
        "id": "QK1mcZOesi1p"
      },
      "source": [
        "### 2. Scrape the tweets from specific date"
      ]
    },
    {
      "cell_type": "code",
      "execution_count": null,
      "metadata": {
        "colab": {
          "background_save": true
        },
        "id": "t1Pq7GdYsi1s",
        "outputId": "3213f516-b8f0-4afd-afbd-f351a8d7e8d8"
      },
      "outputs": [
        {
          "name": "stderr",
          "output_type": "stream",
          "text": [
            "CRITICAL:root:twint.get:User:'NoneType' object is not subscriptable\n",
            "CRITICAL:root:twint.run:Twint:Feed:noDataExpecting value: line 1 column 1 (char 0)\n",
            "sleeping for 1.0 secs\n",
            "CRITICAL:root:twint.run:Twint:Feed:noDataExpecting value: line 1 column 1 (char 0)\n",
            "sleeping for 8.0 secs\n",
            "CRITICAL:root:twint.run:Twint:Feed:noDataExpecting value: line 1 column 1 (char 0)\n",
            "sleeping for 27.0 secs\n",
            "CRITICAL:root:twint.run:Twint:Feed:noDataExpecting value: line 1 column 1 (char 0)\n",
            "sleeping for 64.0 secs\n",
            "CRITICAL:root:twint.run:Twint:Feed:noDataExpecting value: line 1 column 1 (char 0)\n",
            "sleeping for 125.0 secs\n",
            "CRITICAL:root:twint.run:Twint:Feed:noDataExpecting value: line 1 column 1 (char 0)\n",
            "sleeping for 216.0 secs\n",
            "CRITICAL:root:twint.run:Twint:Feed:noDataExpecting value: line 1 column 1 (char 0)\n",
            "sleeping for 343.0 secs\n",
            "CRITICAL:root:twint.run:Twint:Feed:noDataExpecting value: line 1 column 1 (char 0)\n",
            "sleeping for 512.0 secs\n",
            "CRITICAL:root:twint.run:Twint:Feed:noDataExpecting value: line 1 column 1 (char 0)\n",
            "sleeping for 729.0 secs\n",
            "CRITICAL:root:twint.run:Twint:Feed:noDataExpecting value: line 1 column 1 (char 0)\n",
            "CRITICAL:root:twint.run:Twint:Feed:Tweets_known_error:Expecting value: line 1 column 1 (char 0)\n",
            "Expecting value: line 1 column 1 (char 0) [x] run.Feed[!] if get this error but you know for sure that more tweets exist, please open an issue and we will investigate it!"
          ]
        }
      ],
      "source": [
        "c = twint.Config()\n",
        "c.Lang = \"en\"\n",
        "c.Username = \"fleetimee\"\n",
        "c.Hide_output = True\n",
        "c.Since = '2022-01-01'\n",
        "c.until= '2022-05-01'\n",
        "# Run\n",
        "twint.run.Search(c)\n",
        "weets_df = twint.storage.panda.Tweets_df"
      ]
    },
    {
      "cell_type": "markdown",
      "metadata": {
        "id": "A0_IC-W6si1u"
      },
      "source": [
        "### 3. Scrape tweets for specific search strings"
      ]
    },
    {
      "cell_type": "code",
      "execution_count": null,
      "metadata": {
        "colab": {
          "background_save": true
        },
        "id": "qAT0E5S-si1w",
        "outputId": "d86ccf8d-74d1-425b-f35d-d1e63f770d32"
      },
      "outputs": [
        {
          "name": "stderr",
          "output_type": "stream",
          "text": [
            "CRITICAL:root:twint.get:User:'NoneType' object is not subscriptable\n",
            "CRITICAL:root:twint.run:Twint:Feed:noDataExpecting value: line 1 column 1 (char 0)\n",
            "sleeping for 1.0 secs\n",
            "CRITICAL:root:twint.run:Twint:Feed:noDataExpecting value: line 1 column 1 (char 0)\n",
            "sleeping for 8.0 secs\n",
            "CRITICAL:root:twint.run:Twint:Feed:noDataExpecting value: line 1 column 1 (char 0)\n",
            "sleeping for 27.0 secs\n",
            "CRITICAL:root:twint.run:Twint:Feed:noDataExpecting value: line 1 column 1 (char 0)\n",
            "sleeping for 64.0 secs\n",
            "CRITICAL:root:twint.run:Twint:Feed:noDataExpecting value: line 1 column 1 (char 0)\n",
            "sleeping for 125.0 secs\n",
            "CRITICAL:root:twint.run:Twint:Feed:noDataExpecting value: line 1 column 1 (char 0)\n",
            "sleeping for 216.0 secs\n"
          ]
        }
      ],
      "source": [
        "# Configure\n",
        "c = twint.Config()\n",
        "c.Lang = \"en\"\n",
        "c.Hide_output = True\n",
        "c.Username = \"fleetimee\"\n",
        "c.Search = ['son','sonia']\n",
        "c.Limit = 1\n",
        "# Run\n",
        "twint.run.Search(c)"
      ]
    },
    {
      "cell_type": "markdown",
      "metadata": {
        "id": "LBl7ymh4si1y"
      },
      "source": [
        "### 4. Scrape tweets Images, Videos or Media (images or videos)"
      ]
    },
    {
      "cell_type": "code",
      "execution_count": null,
      "metadata": {
        "id": "lqscEJpEsi1z"
      },
      "outputs": [],
      "source": [
        "# Configure\n",
        "c = twint.Config()\n",
        "c.Username = \"fleetimee\"\n",
        "c.Limit = 1\n",
        "#c.Images= True\n",
        "#c.Vidoes = True\n",
        "c.Media = True\n",
        "\n",
        "# Run\n",
        "twint.run.Search(c)"
      ]
    },
    {
      "cell_type": "markdown",
      "metadata": {
        "id": "E959qgMlsi11"
      },
      "source": [
        "### 5. Scrape popular tweets of user"
      ]
    },
    {
      "cell_type": "code",
      "execution_count": null,
      "metadata": {
        "id": "ZFaDEfTLsi12"
      },
      "outputs": [],
      "source": [
        "import twint\n",
        "\n",
        "# Configure\n",
        "c = twint.Config()\n",
        "c.Username = \"fleetimee\"\n",
        "c.Limit = 1\n",
        "c.Popular_tweets = True\n",
        "\n",
        "# Run\n",
        "twint.run.Search(c)"
      ]
    },
    {
      "cell_type": "markdown",
      "metadata": {
        "id": "uWi-CeQpsi13"
      },
      "source": [
        "### 6. Filter scraped tweets based on min likes, min retweets, and min replies"
      ]
    },
    {
      "cell_type": "code",
      "execution_count": null,
      "metadata": {
        "id": "VepeTnmusi14"
      },
      "outputs": [],
      "source": [
        "c = twint.Config()\n",
        "c.Username = \"fleetimee\"\n",
        "c.Limit = 1\n",
        "c.Min_likes = 1\n",
        "c.Min_replies = 1\n",
        "c.Min_retweets = 1\n",
        "\n",
        "twint.run.Search(c)"
      ]
    },
    {
      "cell_type": "markdown",
      "metadata": {
        "id": "kvlTsvX8si15"
      },
      "source": [
        "### 7.  Store as Pandas DataFrame"
      ]
    },
    {
      "cell_type": "code",
      "execution_count": null,
      "metadata": {
        "id": "dBbHH-b6si16"
      },
      "outputs": [],
      "source": [
        "import twint\n",
        "\n",
        "c = twint.Config()\n",
        "c.Limit = 1\n",
        "c.Username = 'fleetimee'\n",
        "c.Pandas = True\n",
        "\n",
        "twint.run.Search(c)\n",
        "\n",
        "Tweets_df = twint.storage.panda.Tweets_df"
      ]
    },
    {
      "cell_type": "code",
      "execution_count": null,
      "metadata": {
        "id": "5qaV9bE8si18"
      },
      "outputs": [],
      "source": [
        "Tweets_df.head()"
      ]
    },
    {
      "cell_type": "code",
      "execution_count": null,
      "metadata": {
        "id": "4A65tZEosi18"
      },
      "outputs": [],
      "source": [
        "Tweets_df.info()"
      ]
    },
    {
      "cell_type": "markdown",
      "metadata": {
        "id": "OGOVCUIksi1-"
      },
      "source": [
        "### 8. Scrape hashtags"
      ]
    },
    {
      "cell_type": "code",
      "execution_count": null,
      "metadata": {
        "id": "tvGtPvxMsi1-"
      },
      "outputs": [],
      "source": [
        "c = twint.Config()\n",
        "c.Search = 'soniaekap'\n",
        "c.Limit = 20\n",
        "twint.run.Search(c)"
      ]
    },
    {
      "cell_type": "markdown",
      "metadata": {
        "id": "MXQf4whWsi1_"
      },
      "source": [
        "### 9. Display the tweet"
      ]
    },
    {
      "cell_type": "code",
      "execution_count": null,
      "metadata": {
        "id": "3Rw_ZfTtsi2A"
      },
      "outputs": [],
      "source": [
        "from IPython.display import HTML\n",
        "import requests\n",
        "\n",
        "def show_tweet(link):\n",
        "    '''Display the contents of a tweet. '''\n",
        "    url = 'https://publish.twitter.com/oembed?url=%s' % link\n",
        "    response = requests.get(url)\n",
        "    html = response.json()[\"html\"]\n",
        "    display(HTML(html))"
      ]
    },
    {
      "cell_type": "code",
      "execution_count": null,
      "metadata": {
        "id": "ZqO_4a-9si2B"
      },
      "outputs": [],
      "source": [
        "sample_tweet_link = Tweets_df.sample(1)['link'].values[0]\n",
        "display(sample_tweet_link)\n",
        "show_tweet(sample_tweet_link)"
      ]
    },
    {
      "cell_type": "code",
      "execution_count": null,
      "metadata": {
        "id": "RCkSzR4rsi2C"
      },
      "outputs": [],
      "source": [
        "rt_links = Tweets_df.sort_values(by= 'nretweets', ascending = False)['link'].values\n",
        "\n",
        "for url in rt_links[:5]:\n",
        "    print('* ' * 19)\n",
        "    show_tweet(url)"
      ]
    },
    {
      "cell_type": "markdown",
      "metadata": {
        "id": "5SBwa82jsi2D"
      },
      "source": [
        "### 10. Modular Function"
      ]
    },
    {
      "cell_type": "code",
      "execution_count": null,
      "metadata": {
        "id": "mOdqLgr9si2E"
      },
      "outputs": [],
      "source": [
        "def scrape_user():\n",
        "    print (\"Fetching Tweets\")\n",
        "    c = twint.Config()\n",
        "    c.Lang = \"en\"\n",
        "    # choose username (optional)\n",
        "    c.Username = input('Username: ') # I used a different account for this project. Changed the username to protect the user's privacy.\n",
        "    # choose beginning time (narrow results)\n",
        "    c.Since = input('Date (format: \"%Y-%m-%d %H:%M:%S\"): ')\n",
        "    c.Pandas = True\n",
        "       \n",
        "    twint.run.Search(c)\n",
        "    Tweets_df = twint.storage.panda.Tweets_df\n",
        "    return( Tweets_df)"
      ]
    },
    {
      "cell_type": "code",
      "execution_count": null,
      "metadata": {
        "id": "pcLYyH6Nsi2F"
      },
      "outputs": [],
      "source": [
        "bb=scrape_user()\n",
        "print('Scraping Done!')"
      ]
    },
    {
      "cell_type": "code",
      "execution_count": null,
      "metadata": {
        "id": "aSbcnyHVsi2G"
      },
      "outputs": [],
      "source": [
        "bb.shape"
      ]
    },
    {
      "cell_type": "code",
      "execution_count": null,
      "metadata": {
        "id": "bV1FeDYSsi2I"
      },
      "outputs": [],
      "source": [
        "#https://nealcaren.org/lessons/twint/"
      ]
    }
  ],
  "metadata": {
    "colab": {
      "collapsed_sections": [],
      "provenance": [],
      "include_colab_link": true
    },
    "kernelspec": {
      "display_name": "Python 3",
      "language": "python",
      "name": "python3"
    },
    "language_info": {
      "codemirror_mode": {
        "name": "ipython",
        "version": 3
      },
      "file_extension": ".py",
      "mimetype": "text/x-python",
      "name": "python",
      "nbconvert_exporter": "python",
      "pygments_lexer": "ipython3",
      "version": "3.6.5"
    }
  },
  "nbformat": 4,
  "nbformat_minor": 0
}